{
 "cells": [
  {
   "cell_type": "code",
   "execution_count": 3,
   "metadata": {},
   "outputs": [
    {
     "name": "stderr",
     "output_type": "stream",
     "text": [
      "Lossy conversion from float64 to uint8. Range [0, 1]. Convert image to uint8 prior to saving to suppress this warning.\n"
     ]
    }
   ],
   "source": [
    "from skimage import io, transform\n",
    "\n",
    "img = io.imread('/home/river/Documentos/Python/rosario.png', plugin='pil', plugin_args={'mode': 'r'})\n",
    "\n",
    "scale_factor = 4\n",
    "new_size = (img.shape[1]*scale_factor, img.shape[0]*scale_factor)\n",
    "resized_img = transform.resize(img, new_size, mode='reflect')\n",
    "\n",
    "io.imsave('imagem_resized.jpg', resized_img)\n"
   ]
  },
  {
   "cell_type": "code",
   "execution_count": 5,
   "metadata": {},
   "outputs": [],
   "source": [
    "def upscalling(path, nome):\n",
    "    img = io.imread(path, plugin='pil', plugin_args={'mode': 'r'})\n",
    "\n",
    "    scale_factor = 3\n",
    "    new_size = (img.shape[1]*scale_factor, img.shape[0]*scale_factor)\n",
    "    resized_img = transform.resize(img, new_size, mode='reflect')\n",
    "    io.imsave(f'{nome}.jpg', resized_img)\n",
    "\n",
    "    return 0\n"
   ]
  },
  {
   "cell_type": "code",
   "execution_count": 6,
   "metadata": {},
   "outputs": [
    {
     "name": "stderr",
     "output_type": "stream",
     "text": [
      "Lossy conversion from float64 to uint8. Range [0, 1]. Convert image to uint8 prior to saving to suppress this warning.\n"
     ]
    }
   ],
   "source": [
    "teste = upscalling('/home/river/Documentos/Python/clannad_low.png')"
   ]
  },
  {
   "attachments": {},
   "cell_type": "markdown",
   "metadata": {},
   "source": [
    "pip install skimage\n",
    "pip install imageio[pyav]\n",
    "pip install imageio\n"
   ]
  }
 ],
 "metadata": {
  "kernelspec": {
   "display_name": "Python 3",
   "language": "python",
   "name": "python3"
  },
  "language_info": {
   "codemirror_mode": {
    "name": "ipython",
    "version": 3
   },
   "file_extension": ".py",
   "mimetype": "text/x-python",
   "name": "python",
   "nbconvert_exporter": "python",
   "pygments_lexer": "ipython3",
   "version": "3.12.0"
  },
  "orig_nbformat": 4
 },
 "nbformat": 4,
 "nbformat_minor": 2
}
